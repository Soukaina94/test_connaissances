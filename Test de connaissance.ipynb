{
 "cells": [
  {
   "cell_type": "markdown",
   "metadata": {},
   "source": [
    "Test de connaissance \n",
    "BIG DATA\n"
   ]
  },
  {
   "cell_type": "code",
   "execution_count": 1,
   "metadata": {},
   "outputs": [
    {
     "data": {
      "text/plain": [
       "'C:\\\\Spark\\\\spark-2.4.7-bin-hadoop2.7'"
      ]
     },
     "execution_count": 1,
     "metadata": {},
     "output_type": "execute_result"
    }
   ],
   "source": [
    "import findspark\n",
    "findspark.init()\n",
    "findspark.find()\n",
    "import pyspark\n",
    "findspark.find()"
   ]
  },
  {
   "cell_type": "code",
   "execution_count": 2,
   "metadata": {},
   "outputs": [],
   "source": [
    "# Importation\n",
    "\n",
    "from pyspark.sql import SparkSession\n",
    "from pyspark.sql import functions as F\n",
    "from pyspark import SparkContext\n",
    "\n",
    "# Instantiation\n",
    "spark = SparkSession.builder.master(\"local\").appName(\"FolksDF\").getOrCreate()"
   ]
  },
  {
   "cell_type": "markdown",
   "metadata": {},
   "source": [
    "creation de tables"
   ]
  },
  {
   "cell_type": "code",
   "execution_count": 3,
   "metadata": {},
   "outputs": [
    {
     "name": "stdout",
     "output_type": "stream",
     "text": [
      "+-----+-----------------+\n",
      "|  aid|             name|\n",
      "+-----+-----------------+\n",
      "|07890| Jean Paul Sartre|\n",
      "|05678|Pierre de Ronsard|\n",
      "+-----+-----------------+\n",
      "\n"
     ]
    }
   ],
   "source": [
    "l1 = [('07890','Jean Paul Sartre'),('05678','Pierre de Ronsard')]\n",
    "rdd1 = spark.sparkContext.parallelize(l1)\n",
    "Author = rdd1.toDF(['aid','name'])\n",
    "Author.createOrReplaceTempView('AuthorSQL')\n",
    "Author.show()"
   ]
  },
  {
   "cell_type": "code",
   "execution_count": 4,
   "metadata": {},
   "outputs": [
    {
     "name": "stdout",
     "output_type": "stream",
     "text": [
      "+----+--------------------+-----------+\n",
      "| bid|               title|   category|\n",
      "+----+--------------------+-----------+\n",
      "|0001|Lexistentialisme ...|Philosophie|\n",
      "|0002|Huis clos. Suivi ...|Philosophie|\n",
      "|0003|Mignonne allons v...|      Poeme|\n",
      "|0004|          Les Amours|      Poème|\n",
      "+----+--------------------+-----------+\n",
      "\n"
     ]
    }
   ],
   "source": [
    "l2 = [('0001','Lexistentialisme est un humanisme','Philosophie'),('0002','Huis clos. Suivi de Les Mouches','Philosophie'),('0003','Mignonne allons voir si la rose','Poeme'),('0004','Les Amours','Poème') ]\n",
    "rdd1 = spark.sparkContext.parallelize(l2)\n",
    "book = rdd1.toDF(['bid','title','category'])\n",
    "book.createOrReplaceTempView('BookSQL')\n",
    "book.show()"
   ]
  },
  {
   "cell_type": "code",
   "execution_count": 5,
   "metadata": {},
   "outputs": [
    {
     "name": "stdout",
     "output_type": "stream",
     "text": [
      "+---+-----+---------+\n",
      "|sid|sname|     dept|\n",
      "+---+-----+---------+\n",
      "|S15| toto|     Math|\n",
      "|S16| popo|      Eco|\n",
      "|S17| fofo|Mécanique|\n",
      "+---+-----+---------+\n",
      "\n"
     ]
    }
   ],
   "source": [
    "l3 = [('S15','toto','Math'),('S16','popo','Eco'),('S17','fofo','Mécanique') ]\n",
    "rdd1 = spark.sparkContext.parallelize(l3)\n",
    "Student = rdd1.toDF(['sid','sname','dept'])\n",
    "Student.createOrReplaceTempView('StudentSQL')\n",
    "Student.show()"
   ]
  },
  {
   "cell_type": "code",
   "execution_count": 6,
   "metadata": {},
   "outputs": [
    {
     "name": "stdout",
     "output_type": "stream",
     "text": [
      "+-----+----+\n",
      "|  aid| bid|\n",
      "+-----+----+\n",
      "|07890|0001|\n",
      "|07890|0002|\n",
      "|05678|0003|\n",
      "|05678|0003|\n",
      "+-----+----+\n",
      "\n"
     ]
    }
   ],
   "source": [
    "l4 = [('07890','0001'),('07890','0002'),('05678','0003'),('05678','0003')]\n",
    "rdd1 = spark.sparkContext.parallelize(l4)\n",
    "write= rdd1.toDF(['aid','bid'])\n",
    "write.createOrReplaceTempView('WriteSQL')\n",
    "write.show()"
   ]
  },
  {
   "cell_type": "code",
   "execution_count": 37,
   "metadata": {},
   "outputs": [
    {
     "name": "stdout",
     "output_type": "stream",
     "text": [
      "+---+----+-------------+-----------+\n",
      "|sid| bid|checkout-time|return-time|\n",
      "+---+----+-------------+-----------+\n",
      "|S15|0003|   02-01-2020| 01-02-2020|\n",
      "|S15|0002|   13-06-2020|       null|\n",
      "|S15|0001|   13-06-2020| 13-10-2020|\n",
      "|S16|0002|   24-01-2020| 24-01-2020|\n",
      "|S17|0001|   12-04-2020| 01-07-2020|\n",
      "+---+----+-------------+-----------+\n",
      "\n"
     ]
    }
   ],
   "source": [
    "l5 = [('S15','0003','02-01-2020','01-02-2020'),('S15','0002','13-06-2020','null'),\n",
    "      ('S15','0001','13-06-2020','13-10-2020'),('S16','0002','24-01-2020','24-01-2020'),\n",
    "     ('S17','0001','12-04-2020','01-07-2020')]\n",
    "rdd1 = spark.sparkContext.parallelize(l5)\n",
    "borrow = rdd1.toDF(['sid','bid','checkout-time','return-time'])\n",
    "borrow.createOrReplaceTempView('borrowSQL')\n",
    "borrow.show()"
   ]
  },
  {
   "cell_type": "markdown",
   "metadata": {},
   "source": [
    "1-Trouver les titres de tous les livres que l'étudiant sid='S15' a emprunté."
   ]
  },
  {
   "cell_type": "code",
   "execution_count": 8,
   "metadata": {},
   "outputs": [
    {
     "name": "stdout",
     "output_type": "stream",
     "text": [
      "+----+--------------------+\n",
      "| bid|               title|\n",
      "+----+--------------------+\n",
      "|0002|Huis clos. Suivi ...|\n",
      "|0003|Mignonne allons v...|\n",
      "|0001|Lexistentialisme ...|\n",
      "+----+--------------------+\n",
      "\n"
     ]
    }
   ],
   "source": [
    "# SQL\n",
    "spark.sql(''' select borrowSQL.bid, title\n",
    "              from borrowSQL \n",
    "              join bookSQL \n",
    "              on borrowSQL.bid = bookSQL.bid \n",
    "              where borrowSQL.sid='S15' ''').show()"
   ]
  },
  {
   "cell_type": "code",
   "execution_count": 9,
   "metadata": {},
   "outputs": [
    {
     "name": "stdout",
     "output_type": "stream",
     "text": [
      "+----+--------------------+\n",
      "| bid|               title|\n",
      "+----+--------------------+\n",
      "|0002|Huis clos. Suivi ...|\n",
      "|0003|Mignonne allons v...|\n",
      "|0001|Lexistentialisme ...|\n",
      "+----+--------------------+\n",
      "\n"
     ]
    }
   ],
   "source": [
    "# DSL\n",
    "borrow.join(book,['bid']) \\\n",
    "          .select('bid','title') \\\n",
    "          .filter(F.col('sid')=='S15') \\\n",
    "          .show()"
   ]
  },
  {
   "cell_type": "markdown",
   "metadata": {},
   "source": [
    "2-Trouver les titres de tous les livres qui n'ont jamais été empruntés par un étudiant."
   ]
  },
  {
   "cell_type": "code",
   "execution_count": 10,
   "metadata": {},
   "outputs": [
    {
     "name": "stdout",
     "output_type": "stream",
     "text": [
      "+----------+\n",
      "|     title|\n",
      "+----------+\n",
      "|Les Amours|\n",
      "+----------+\n",
      "\n"
     ]
    }
   ],
   "source": [
    "# SQL\n",
    "spark.sql(''' select  title\n",
    "              from bookSQL \n",
    "              LEFT JOIN borrowSQL \n",
    "              on bookSQL.bid=borrowSQL.bid \n",
    "              where borrowSQL.bid is NULL''').show()"
   ]
  },
  {
   "cell_type": "code",
   "execution_count": 11,
   "metadata": {},
   "outputs": [
    {
     "name": "stdout",
     "output_type": "stream",
     "text": [
      "+----------+\n",
      "|     title|\n",
      "+----------+\n",
      "|Les Amours|\n",
      "+----------+\n",
      "\n"
     ]
    }
   ],
   "source": [
    "# DSL\n",
    "book.join(borrow, 'bid', how=\"left\")\\\n",
    "     .select('title')\\\n",
    "     .filter(F.col('checkout-time').isNull())\\\n",
    "     .show()         "
   ]
  },
  {
   "cell_type": "markdown",
   "metadata": {},
   "source": [
    "3-Trouver tous les étudiants qui ont emprunté le livre bid=’0002’"
   ]
  },
  {
   "cell_type": "code",
   "execution_count": 12,
   "metadata": {},
   "outputs": [
    {
     "name": "stdout",
     "output_type": "stream",
     "text": [
      "+---+-----+----+\n",
      "|sid|sname| bid|\n",
      "+---+-----+----+\n",
      "|S16| popo|0002|\n",
      "|S15| toto|0002|\n",
      "+---+-----+----+\n",
      "\n"
     ]
    }
   ],
   "source": [
    "# SQL\n",
    "\n",
    "spark.sql(''' select borrowSQL.sid, sname, bid\n",
    "              from borrowSQL \n",
    "              join StudentSQL \n",
    "              on borrowSQL.sid = StudentSQL.sid \n",
    "              where bid='0002' \n",
    "              ''').show()"
   ]
  },
  {
   "cell_type": "code",
   "execution_count": 13,
   "metadata": {},
   "outputs": [
    {
     "name": "stdout",
     "output_type": "stream",
     "text": [
      "+---+-----+----+\n",
      "|sid|sname| bid|\n",
      "+---+-----+----+\n",
      "|S16| popo|0002|\n",
      "|S15| toto|0002|\n",
      "+---+-----+----+\n",
      "\n"
     ]
    }
   ],
   "source": [
    "borrow.join(Student,['sid']) \\\n",
    "          .select('sid','sname','bid') \\\n",
    "          .filter(F.col('bid')=='0002') \\\n",
    "          .show()"
   ]
  },
  {
   "cell_type": "markdown",
   "metadata": {},
   "source": [
    "\n",
    "4-Trouver les titres de tous les livres empruntés par des étudiants en Mécanique (département Mécanique) (ERRATUM !!)"
   ]
  },
  {
   "cell_type": "code",
   "execution_count": 14,
   "metadata": {},
   "outputs": [
    {
     "name": "stdout",
     "output_type": "stream",
     "text": [
      "+----+--------------------+---+-----+---------+\n",
      "| bid|               title|sid|sname|     dept|\n",
      "+----+--------------------+---+-----+---------+\n",
      "|0001|Lexistentialisme ...|S17| fofo|Mécanique|\n",
      "+----+--------------------+---+-----+---------+\n",
      "\n"
     ]
    }
   ],
   "source": [
    "spark.sql(''' select borrowSQL.bid, title, StudentSQL.sid, sname, StudentSQL.dept\n",
    "              from borrowSQL \n",
    "              left join bookSQL \n",
    "              on borrowSQL.bid = bookSQL.bid \n",
    "              left join StudentSQL\n",
    "              on borrowSQL.sid=StudentSQL.sid\n",
    "              where StudentSQL.dept='Mécanique' ''').show()"
   ]
  },
  {
   "cell_type": "code",
   "execution_count": 15,
   "metadata": {},
   "outputs": [
    {
     "name": "stdout",
     "output_type": "stream",
     "text": [
      "+---+----+--------------------+-----+---------+\n",
      "|sid| bid|               title|sname|     dept|\n",
      "+---+----+--------------------+-----+---------+\n",
      "|S17|0001|Lexistentialisme ...| fofo|Mécanique|\n",
      "+---+----+--------------------+-----+---------+\n",
      "\n"
     ]
    }
   ],
   "source": [
    "# DSL\n",
    "borrow.join(book,['bid']) \\\n",
    "          .select('bid','title','sid') \\\n",
    "          .join(Student,['sid'])\\\n",
    "          .filter(F.col('dept')=='Mécanique')\\\n",
    "          .show()"
   ]
  },
  {
   "cell_type": "markdown",
   "metadata": {},
   "source": [
    "5-Trouver les étudiants qui n’ont jamais emprunté de livre."
   ]
  },
  {
   "cell_type": "code",
   "execution_count": 16,
   "metadata": {},
   "outputs": [
    {
     "name": "stdout",
     "output_type": "stream",
     "text": [
      "+---+-----+\n",
      "|sid|sname|\n",
      "+---+-----+\n",
      "+---+-----+\n",
      "\n"
     ]
    }
   ],
   "source": [
    "# SQL\n",
    "\n",
    "spark.sql(''' select StudentSQL.sid, sname\n",
    "              from StudentSQL \n",
    "              JOIN borrowSQL \n",
    "              on StudentSQL.sid=borrowSQL.sid \n",
    "              where borrowSQL.bid is NULL''').show()\n",
    "#tous les étudients de la table Student ont emprunté des livres "
   ]
  },
  {
   "cell_type": "code",
   "execution_count": 17,
   "metadata": {},
   "outputs": [
    {
     "name": "stdout",
     "output_type": "stream",
     "text": [
      "+---+-----+\n",
      "|sid|sname|\n",
      "+---+-----+\n",
      "+---+-----+\n",
      "\n"
     ]
    }
   ],
   "source": [
    "# DSL\n",
    "Student.join(borrow, 'sid', how=\"left\")\\\n",
    "     .select('sid', 'sname')\\\n",
    "     .filter(F.col('checkout-time').isNull())\\\n",
    "     .show() \n",
    "\n",
    "#tous les étudients de la table Student ont emprunté des livres "
   ]
  },
  {
   "cell_type": "markdown",
   "metadata": {},
   "source": [
    "6- Déterminer l’auteur qui a écrit le plus de livres. "
   ]
  },
  {
   "cell_type": "code",
   "execution_count": 18,
   "metadata": {},
   "outputs": [
    {
     "data": {
      "text/plain": [
       "Row(nbL=2, name='Jean Paul Sartre')"
      ]
     },
     "execution_count": 18,
     "metadata": {},
     "output_type": "execute_result"
    }
   ],
   "source": [
    "#SQL\n",
    "# group by name \n",
    "spark.sql(''' select count(distinct title) as nbL, name\n",
    "              from bookSQL \n",
    "              join writeSQL \n",
    "              on bookSQL.bid = writeSQL.bid \n",
    "              join AuthorSQL \n",
    "              on writeSQL.aid = AuthorSQL.aid\n",
    "              group by name\n",
    "              order by nbL desc''').first()"
   ]
  },
  {
   "cell_type": "code",
   "execution_count": 19,
   "metadata": {},
   "outputs": [
    {
     "name": "stdout",
     "output_type": "stream",
     "text": [
      "+-----------------+--------+\n",
      "|             name|nb_livre|\n",
      "+-----------------+--------+\n",
      "| Jean Paul Sartre|       2|\n",
      "|Pierre de Ronsard|       2|\n",
      "+-----------------+--------+\n",
      "\n"
     ]
    }
   ],
   "source": [
    "#DSL\n",
    "nb_livre = write\\\n",
    "            .join(Author,['aid'])\\\n",
    "            .groupby('name')\\\n",
    "            .agg(F.count('aid').alias('nb_livre'))\n",
    "maximum = nb_livre.collect()[0]['nb_livre']\n",
    "nb_livre\\\n",
    "    .filter(F.col('nb_livre')==maximum)\\\n",
    "    .show()\n",
    "\n",
    "\n",
    "\n"
   ]
  },
  {
   "cell_type": "markdown",
   "metadata": {},
   "source": [
    "7- Déterminer les personnes qui n’ont pas encore rendu les livres."
   ]
  },
  {
   "cell_type": "code",
   "execution_count": 20,
   "metadata": {},
   "outputs": [
    {
     "name": "stdout",
     "output_type": "stream",
     "text": [
      "+-----+\n",
      "|sname|\n",
      "+-----+\n",
      "| toto|\n",
      "+-----+\n",
      "\n"
     ]
    }
   ],
   "source": [
    "# SQL\n",
    "spark.sql(\"\"\"select sname\n",
    "         from  borrowSQL\n",
    "         join StudentSQL\n",
    "        on StudentSQL.sid = borrowSQL.sid \n",
    "        where borrowSQL.`return-time`= 'null' \"\"\").show()"
   ]
  },
  {
   "cell_type": "code",
   "execution_count": 21,
   "metadata": {},
   "outputs": [
    {
     "name": "stdout",
     "output_type": "stream",
     "text": [
      "+-----+\n",
      "|sname|\n",
      "+-----+\n",
      "| toto|\n",
      "+-----+\n",
      "\n"
     ]
    }
   ],
   "source": [
    "#DSL\n",
    "Student.join(borrow, 'sid').select('sname').filter(F.col('return-time')=='null').show()"
   ]
  },
  {
   "cell_type": "markdown",
   "metadata": {},
   "source": [
    "8- Créer une nouvelle colonne dans la table borrow qui prend la valeur 1, si la durée d'emprunt est supérieur à 3 mois,  sinon 0.  (utiliser la fonction spark to_date) par la suite faire un export des données en CSV. dans un répertoire nommé contention (Attention pas de path en dur ! )"
   ]
  },
  {
   "cell_type": "code",
   "execution_count": 22,
   "metadata": {},
   "outputs": [
    {
     "name": "stdout",
     "output_type": "stream",
     "text": [
      "+---+----+-------------+-----------+---------------+\n",
      "|sid| bid|checkout-time|return-time|plus que 3 mois|\n",
      "+---+----+-------------+-----------+---------------+\n",
      "|S15|0003|   02-01-2020| 01-02-2020|              0|\n",
      "|S15|0002|   13-06-2020|       null|              0|\n",
      "|S15|0001|   13-06-2020| 13-10-2020|              1|\n",
      "|S16|0002|   24-01-2020| 24-01-2020|              0|\n",
      "|S17|0001|   12-04-2020| 01-07-2020|              0|\n",
      "+---+----+-------------+-----------+---------------+\n",
      "\n"
     ]
    }
   ],
   "source": [
    "borrow = borrow\\\n",
    "    .withColumn(\"format\",F.lit(\"dd-MM-yyyy\"))\\\n",
    "    .withColumn(\"start\",F.expr(\"to_date(`checkout-time`, format)\"))\\\n",
    "    .withColumn(\"end\",F.expr(\"to_date(`return-time`, format)\"))\\\n",
    "    .withColumn(\"plus que 3 mois\", \n",
    "                F.when(F.months_between(F.col('end'),F.col('start'))>=3,1).\\\n",
    "                otherwise(0))\\\n",
    "    .drop('format','start','end').show()"
   ]
  },
  {
   "cell_type": "markdown",
   "metadata": {},
   "source": [
    "9-déterminer les livres qui n’ont jamais été empruntés. "
   ]
  },
  {
   "cell_type": "code",
   "execution_count": 23,
   "metadata": {},
   "outputs": [
    {
     "name": "stdout",
     "output_type": "stream",
     "text": [
      "+----------+\n",
      "|     title|\n",
      "+----------+\n",
      "|Les Amours|\n",
      "+----------+\n",
      "\n"
     ]
    }
   ],
   "source": [
    "#SQL\n",
    "spark.sql(\"\"\"\n",
    "    select bookSQL .title\n",
    "    from bookSQL \n",
    "    full join borrowSQL \n",
    "    on bookSQL.bid = borrowSQL.bid\n",
    "    where borrowSQL.sid is NULL\"\"\").show()"
   ]
  },
  {
   "cell_type": "code",
   "execution_count": 41,
   "metadata": {},
   "outputs": [
    {
     "name": "stdout",
     "output_type": "stream",
     "text": [
      "+----------+\n",
      "|     title|\n",
      "+----------+\n",
      "|Les Amours|\n",
      "+----------+\n",
      "\n"
     ]
    }
   ],
   "source": [
    "# DSL\n",
    "borrow.join(book, book.bid==borrow.bid, how='right')\\\n",
    "    .select('title')\\\n",
    "    .filter(F.col('sid').isNull())\\\n",
    "    .show()"
   ]
  },
  {
   "cell_type": "code",
   "execution_count": null,
   "metadata": {},
   "outputs": [],
   "source": []
  }
 ],
 "metadata": {
  "kernelspec": {
   "display_name": "Python 3",
   "language": "python",
   "name": "python3"
  },
  "language_info": {
   "codemirror_mode": {
    "name": "ipython",
    "version": 3
   },
   "file_extension": ".py",
   "mimetype": "text/x-python",
   "name": "python",
   "nbconvert_exporter": "python",
   "pygments_lexer": "ipython3",
   "version": "3.7.3"
  }
 },
 "nbformat": 4,
 "nbformat_minor": 4
}
